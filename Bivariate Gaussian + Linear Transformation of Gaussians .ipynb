{
 "cells": [
  {
   "cell_type": "markdown",
   "metadata": {},
   "source": [
    "__Explain in your own words what effect does the choice of Covariance matrix have on the Bivariate Gaussian (compare spherical, elliptical). What does it mean when the covariance matrix is not diagonal?__\n",
    "\n",
    "\n",
    "The iso-contour of 2D Gaussian distribution is determined by covariance matrix. In the case of diagonal covariance matrix and equal variance  major axis of the ellipse will be the axis- aligned and ellipse would be spherical in shape. And in the case of zero covariance and unequal variance, the data would spread along the axis of highest variance.In cases where the data is correlated, such that a covariance exists, the resulting ellipse will not be axis aligned. In such case, ellipse will rotate along the direction of highest eigen vector of covariance matrix."
   ]
  },
  {
   "cell_type": "code",
   "execution_count": null,
   "metadata": {},
   "outputs": [],
   "source": []
  }
 ],
 "metadata": {
  "kernelspec": {
   "display_name": "Python 3",
   "language": "python",
   "name": "python3"
  },
  "language_info": {
   "codemirror_mode": {
    "name": "ipython",
    "version": 3
   },
   "file_extension": ".py",
   "mimetype": "text/x-python",
   "name": "python",
   "nbconvert_exporter": "python",
   "pygments_lexer": "ipython3",
   "version": "3.7.3"
  }
 },
 "nbformat": 4,
 "nbformat_minor": 2
}
